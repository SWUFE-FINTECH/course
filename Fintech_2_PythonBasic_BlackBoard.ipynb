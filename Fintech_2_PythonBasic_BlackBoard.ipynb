{
 "cells": [
  {
   "cell_type": "markdown",
   "metadata": {},
   "source": [
    "# Python Basic"
   ]
  },
  {
   "cell_type": "markdown",
   "metadata": {},
   "source": [
    "## Hello World"
   ]
  },
  {
   "cell_type": "code",
   "execution_count": 1,
   "metadata": {},
   "outputs": [
    {
     "name": "stdout",
     "output_type": "stream",
     "text": [
      "Hello World\n"
     ]
    }
   ],
   "source": [
    "# -*- coding: utf-8 -*-\n",
    "\n",
    "if __name__ == '__main__':\n",
    "    print('Hello World')"
   ]
  },
  {
   "cell_type": "markdown",
   "metadata": {},
   "source": [
    "## 变量 关键词 语句和缩进"
   ]
  },
  {
   "cell_type": "code",
   "execution_count": 6,
   "metadata": {},
   "outputs": [
    {
     "name": "stdout",
     "output_type": "stream",
     "text": [
      "Ok\n",
      "dd\n",
      "cc\n"
     ]
    }
   ],
   "source": [
    "a = 2\n",
    "b = 3\n",
    "c = a + b\n",
    "d = True\n",
    "if d:\n",
    "    print('Ok')\n",
    "    print('dd')\n",
    "    print('cc')\n",
    "else:\n",
    "    print('Failed')\n",
    "#print(c)"
   ]
  },
  {
   "cell_type": "markdown",
   "metadata": {},
   "source": [
    "## 运算符和表达式"
   ]
  },
  {
   "cell_type": "code",
   "execution_count": 16,
   "metadata": {},
   "outputs": [
    {
     "name": "stdout",
     "output_type": "stream",
     "text": [
      "16\n",
      "abcdef\n",
      "6\n",
      "6\n",
      "8\n",
      "0\n",
      "7\n",
      "12\n"
     ]
    }
   ],
   "source": [
    "a = 3\n",
    "b = 5\n",
    "c = (a+b)*2\n",
    "print(c)\n",
    "\n",
    "a1 = 'abc'\n",
    "b1 = 'def'\n",
    "c1 = a1+b1\n",
    "print(c1)\n",
    "\n",
    "a2 = 5\n",
    "a2 += 1\n",
    "print(a2)\n",
    "\n",
    "b2 = 8\n",
    "b2 -= 2\n",
    "print(b2)\n",
    "\n",
    "c2 = 12\n",
    "c2 = c2-4\n",
    "print(c2)\n",
    "\n",
    "d2 = 12\n",
    "e2 = d2 % 4\n",
    "print(e2)\n",
    "\n",
    "arr = [1,5,7,9]\n",
    "print(arr[2])\n",
    "cc = d2+e2\n",
    "print(cc)"
   ]
  },
  {
   "cell_type": "markdown",
   "metadata": {},
   "source": [
    "## 控制流"
   ]
  },
  {
   "cell_type": "code",
   "execution_count": 34,
   "metadata": {},
   "outputs": [
    {
     "name": "stdout",
     "output_type": "stream",
     "text": [
      "gt\n",
      "2\n",
      "4\n",
      "6\n",
      "8\n",
      "c is True\n",
      "this user is our member\n",
      "2\n",
      "3\n",
      "got it\n",
      "==========\n",
      "++2\n",
      "2\n",
      "++3\n",
      "3\n",
      "++4\n",
      "++5\n",
      "5\n",
      "++6\n",
      "6\n",
      "++7\n",
      "7\n",
      "++8\n",
      "8\n",
      "++9\n",
      "9\n"
     ]
    }
   ],
   "source": [
    "a= 5\n",
    "b = 2\n",
    "if a > 4 or (a-b) < 0:\n",
    "    print('gt')\n",
    "else:\n",
    "    print('lt')\n",
    "    \n",
    "for d in range(2,10,2):\n",
    "    print(d)\n",
    "    \n",
    "c = True\n",
    "if c is not False:\n",
    "    print('c is True')\n",
    "else:\n",
    "    print('c is False')\n",
    "    \n",
    "users = ['Eric', 'Jason', 'Nacy']\n",
    "user = 'Jason'\n",
    "if user in users:\n",
    "    print('this user is our member')\n",
    "    \n",
    "v = 3\n",
    "for d in range(2, 10):\n",
    "    print(d)\n",
    "    if d == v:\n",
    "        print('got it')\n",
    "        break;\n",
    "print('==========')\n",
    "z = 4\n",
    "for d in range(2, 10):\n",
    "    print('++{}'.format(d))\n",
    "    if d == z:\n",
    "        continue\n",
    "    print(d)\n",
    "    "
   ]
  },
  {
   "cell_type": "markdown",
   "metadata": {},
   "source": [
    "## 函数"
   ]
  },
  {
   "cell_type": "code",
   "execution_count": 38,
   "metadata": {
    "scrolled": true
   },
   "outputs": [
    {
     "name": "stdout",
     "output_type": "stream",
     "text": [
      "30-26\n"
     ]
    }
   ],
   "source": [
    "def square(width, height):\n",
    "    return (width*height, (width+height)*2)\n",
    "\n",
    "myroom_width = 10\n",
    "myroom_height = 3\n",
    "r1, r2 = square(myroom_width, myroom_height)\n",
    "print('{}-{}'.format(r1, r2))"
   ]
  },
  {
   "cell_type": "markdown",
   "metadata": {},
   "source": [
    "## 字符串"
   ]
  },
  {
   "cell_type": "code",
   "execution_count": 70,
   "metadata": {},
   "outputs": [
    {
     "name": "stdout",
     "output_type": "stream",
     "text": [
      " This is a test. That's ok.\n",
      " THIS IS A TEST. THAT'S OK.\n",
      " this is a test. that's ok.\n",
      "27\n",
      " this is a test. that's ok.\n",
      "2\n",
      "2\n",
      "6\n",
      "**Dream**\n",
      "ream\n",
      "**Dream **\n",
      "** Dream**\n",
      "False\n",
      "True\n",
      "False\n",
      "****************\n",
      "False\n",
      "False\n",
      "True\n",
      "17\n",
      "6\n",
      "13\n",
      "Hello Big world Big world\n"
     ]
    }
   ],
   "source": [
    "str = \" This is a test. That's ok.\"\n",
    "print(str)\n",
    "print(str.upper())\n",
    "print(str.lower())\n",
    "print(len(str))\n",
    "print(str.capitalize())\n",
    "print(str.count('i'))\n",
    "print(str.count('T'))\n",
    "print(str.count(' '))\n",
    "\n",
    "str1 = ' Dream '\n",
    "print('**{}**'.format(str1.strip()))\n",
    "str2 = 'DDreamD'\n",
    "print(str2.strip('D'))\n",
    "print('**{}**'.format(str1.lstrip()))\n",
    "print('**{}**'.format(str1.rstrip()))\n",
    "\n",
    "a = 'dfdsfdh10'\n",
    "print(a.isdigit())\n",
    "print(a.isalnum())\n",
    "print(a.isalpha())\n",
    "\n",
    "print('****************')\n",
    "b = '   '\n",
    "print(b.isupper())\n",
    "print(b.islower())\n",
    "print(b.isspace())\n",
    "\n",
    "c = 'Hello World World'\n",
    "print(len(c))\n",
    "print(c.find('Wo'))\n",
    "print(c.rfind('o'))\n",
    "print(c.replace('Wo', 'Big wo'))"
   ]
  },
  {
   "cell_type": "code",
   "execution_count": 73,
   "metadata": {},
   "outputs": [
    {
     "name": "stdout",
     "output_type": "stream",
     "text": [
      "I am 10 years old. I love rock music. I have 3 cd for this.\n",
      "3-10-I love rock music.\n"
     ]
    }
   ],
   "source": [
    "a = 10\n",
    "b = 3\n",
    "c = 'I love rock music.'\n",
    "# d = 'I am 10 years old. I love rock music. I have 3 cd for this'\n",
    "d_f = 'I am {} years old. {} I have {} cd for this.'\n",
    "d = d_f.format(a, c, b)\n",
    "print(d)\n",
    "\n",
    "e = '{1}-{0}-{2}'\n",
    "print(e.format(a, b, c))"
   ]
  },
  {
   "cell_type": "markdown",
   "metadata": {},
   "source": [
    "## 列表 元组 集合 "
   ]
  },
  {
   "cell_type": "code",
   "execution_count": 102,
   "metadata": {},
   "outputs": [
    {
     "name": "stdout",
     "output_type": "stream",
     "text": [
      "39\n",
      "Fred\n",
      "Not Found\n",
      "['Bred', 'Tom', 'Fred', 'Fred', 'Fred', 'Fred', 'Fred', 'Fred', 'Fred', 'Penny', 'Penny', 'Penny', 'Penny', 'Penny', 'Penny', 'Penny', 'Penny', 'Penny', 'Penny', 'Penny', 'Penny', 'Penny', 'Penny', 'Penny', 'Penny', 'Penny', 'Penny', 'Penny', 'Penny', 'Penny', 'Penny', 'erererer', 'fasdfasfds', 'tom', 'tom', 'tom', 'tom', 'tom', 'tom', 'Penny', 'Fred']\n",
      "9\n",
      "['Bred', 'Tom', 'Fred', 'Fred', 'Fred', 'Fred', 'Fred', 'Fred', 'Fred', 'Penny', 'Penny', 'Penny', 'Penny', 'Penny', 'Penny', 'Penny', 'Penny', 'Penny', 'Penny', 'Penny', 'Penny', 'Penny', 'Penny', 'Penny', 'Penny', 'Penny', 'Penny', 'Penny', 'Penny', 'Penny', 'Penny', 'erererer', 'fasdfasfds', 'tom', 'tom', 'tom', 'tom', 'tom', 'tom', 'Penny', 'Fred', 'Penny']\n",
      "9\n",
      "['Bred', 'tom', 'Fred', 'Fred', 'Fred', 'Fred', 'Fred', 'Fred', 'Fred', 'Penny', 'Penny', 'Penny', 'Penny', 'Penny', 'Penny', 'Penny', 'Penny', 'Penny', 'Penny', 'Penny', 'Penny', 'Penny', 'Penny', 'Penny', 'Penny', 'Penny', 'Penny', 'Penny', 'Penny', 'Penny', 'Penny', 'erererer', 'fasdfasfds', 'tom', 'tom', 'tom', 'tom', 'tom', 'tom', 'Penny', 'Fred', 'Penny']\n",
      "['Bred', 'Fred', 'Fred', 'Fred', 'Fred', 'Fred', 'Fred', 'Fred', 'Fred', 'Penny', 'Penny', 'Penny', 'Penny', 'Penny', 'Penny', 'Penny', 'Penny', 'Penny', 'Penny', 'Penny', 'Penny', 'Penny', 'Penny', 'Penny', 'Penny', 'Penny', 'Penny', 'Penny', 'Penny', 'Penny', 'Penny', 'Penny', 'Penny', 'erererer', 'fasdfasfds', 'tom', 'tom', 'tom', 'tom', 'tom', 'tom', 'tom']\n",
      "['tom', 'tom', 'tom', 'tom', 'tom', 'tom', 'tom', 'Bred', 'Fred', 'Fred', 'Fred', 'Fred', 'Fred', 'Fred', 'Fred', 'Fred', 'Penny', 'Penny', 'Penny', 'Penny', 'Penny', 'Penny', 'Penny', 'Penny', 'Penny', 'Penny', 'Penny', 'Penny', 'Penny', 'Penny', 'Penny', 'Penny', 'Penny', 'Penny', 'Penny', 'Penny', 'Penny', 'Penny', 'Penny', 'Penny', 'erererer', 'fasdfasfds']\n"
     ]
    }
   ],
   "source": [
    "# names = ['erererer', 'Eric', 'Bred', 'fasdfasfds', 'Ceph', 'Danny']\n",
    "print(len(names))\n",
    "print(names[1])\n",
    "names.append('Penny')\n",
    "#print(names)\n",
    "names.insert(2, 'Tom')\n",
    "#print(names)\n",
    "\n",
    "others = ['Fred', 'Hell']\n",
    "names.extend(others)\n",
    "#print(names)\n",
    "\n",
    "try:\n",
    "    names.remove('Freddddd')\n",
    "except:\n",
    "    print('Not Found')\n",
    "#print(names)\n",
    "\n",
    "del names[1]\n",
    "#print(names)\n",
    "\n",
    "names.pop()\n",
    "print(names)\n",
    "\n",
    "index = names.index('Penny')\n",
    "print(index)\n",
    "names.append('Penny')\n",
    "print(names)\n",
    "index = names.index('Penny')\n",
    "print(index)\n",
    "\n",
    "names[1] = 'tom'\n",
    "print(names)\n",
    "\n",
    "names.sort()\n",
    "print(names)\n",
    "\n",
    "names.sort(key=lambda x: len(x))\n",
    "print(names)\n"
   ]
  },
  {
   "cell_type": "code",
   "execution_count": 114,
   "metadata": {},
   "outputs": [
    {
     "name": "stdout",
     "output_type": "stream",
     "text": [
      "['Cat', 'Dog', 234, 345, 'Bird', 23.0]\n",
      "{'Cat', 'Addddd', 'Dog', 343, 'Eddf'}\n",
      "('Cat', 'Dog', 'Fish')\n",
      "Cat\n",
      "Dog\n",
      "Fish\n",
      "Cat\n"
     ]
    }
   ],
   "source": [
    "objs = ['Cat', 'Dog', 234, 345, 'Bird', 23.00]\n",
    "print(objs)\n",
    "objs.append('Cat')\n",
    "#for obj in objs:\n",
    "    #print(obj)\n",
    "    \n",
    "objs1 = set()\n",
    "objs1.add('Cat')\n",
    "objs1.add('Eddf')\n",
    "objs1.add('Dog')\n",
    "objs1.add(343)\n",
    "objs1.add('Cat')\n",
    "objs1.add('Addddd')\n",
    "print(objs1)\n",
    "#for obj1 in objs1:\n",
    "    #print(obj1)\n",
    "    \n",
    "objs2 = ('Cat', 'Dog', 'Fish')\n",
    "print(objs2)\n",
    "for obj2 in objs2:\n",
    "    print(obj2)\n",
    "print(objs2[0])"
   ]
  },
  {
   "cell_type": "markdown",
   "metadata": {},
   "source": [
    "## 字典"
   ]
  },
  {
   "cell_type": "code",
   "execution_count": 121,
   "metadata": {},
   "outputs": [
    {
     "name": "stdout",
     "output_type": "stream",
     "text": [
      "email-jerry@apple.com\n",
      "name-Jerrry\n",
      "age-8\n",
      "sex-1\n",
      "===============\n",
      "email\n",
      "name\n",
      "age\n",
      "sex\n",
      "not found\n",
      "{'email': 'jerry@apple.com', 'name': 'Jerrry', 'age': 8, 'sex': 1}\n",
      "{'email': 'jerry@apple.com', 'name': 'Jerrry', 'age': 8, 'sex': 1}\n",
      "{'email': 'jerry@apple.com', 'name': 'Jerrry', 'age': 8, 'sex': 1}\n",
      "{'email': 'jerry@apple.com', 'name': 'Jerrry', 'age': 8, 'sex': 1}\n"
     ]
    }
   ],
   "source": [
    "dict = {'name': 'Jerry', 'email': 'jerry@apple.com', 'age': 8}\n",
    "dict['sex'] = 1\n",
    "dict['name'] = 'Jerrry'\n",
    "#print(dict)\n",
    "\n",
    "for k, v in dict.items():\n",
    "    print('{}-{}'.format(k, v))\n",
    "print('===============')\n",
    "for k in dict.keys():\n",
    "    print(k)\n",
    "    \n",
    "if 'abc' in dict:\n",
    "    print(dict['abc'])\n",
    "else:\n",
    "    print('not found')\n",
    "    \n",
    "persons = [dict, dict, dict, dict]\n",
    "for person in persons:\n",
    "    print(person)\n"
   ]
  },
  {
   "cell_type": "markdown",
   "metadata": {},
   "source": [
    "## 切片"
   ]
  },
  {
   "cell_type": "code",
   "execution_count": 125,
   "metadata": {},
   "outputs": [
    {
     "name": "stdout",
     "output_type": "stream",
     "text": [
      "[2, 3, 4, 5, 6, 7]\n",
      "[1, 2, 3, 4, 5, 6]\n",
      "[2, 3, 4]\n",
      "[2, 4, 6]\n",
      "[1, 3, 5, 7]\n",
      "[1, 3, 5, 7]\n",
      "[5, 6, 7]\n"
     ]
    }
   ],
   "source": [
    "nums = [1, 2, 3, 4, 5, 6, 7]\n",
    "\n",
    "print(nums[1:])\n",
    "print(nums[:-1])\n",
    "print(nums[1:4])\n",
    "print(nums[1:-1:2])\n",
    "print(nums[::2])\n",
    "print(nums[:100:2])\n",
    "print(nums[-3:])"
   ]
  },
  {
   "cell_type": "markdown",
   "metadata": {},
   "source": [
    "## 类和对象"
   ]
  },
  {
   "cell_type": "code",
   "execution_count": 126,
   "metadata": {},
   "outputs": [
    {
     "name": "stdout",
     "output_type": "stream",
     "text": [
      "Jerry\n",
      "My name is Jerry. I am a Boy and 8 years old.\n"
     ]
    }
   ],
   "source": [
    "class Person:\n",
    "\n",
    "    def __init__(self, name=None, sex=None, email=None, age=None):\n",
    "        self.name = name\n",
    "        self.sex = sex\n",
    "        self.email = email\n",
    "        self.age = age\n",
    "\n",
    "    def brief(self):\n",
    "        m = 'Boy' if self.sex else 'Girl'\n",
    "        str = 'My name is {0}. ' \\\n",
    "              'I am a {1} and {2} years old.'.format(self.name, m, self.age)\n",
    "        return str\n",
    "\n",
    "jerry = Person(name='Jerry', sex=1, email='jerry@china.com', age=8)\n",
    "tom = Person(name='Tom', sex=0, email='tom@china.com', age=28)\n",
    " \n",
    "print(jerry.name)\n",
    "print(jerry.brief())\n"
   ]
  },
  {
   "cell_type": "code",
   "execution_count": null,
   "metadata": {
    "collapsed": true
   },
   "outputs": [],
   "source": []
  }
 ],
 "metadata": {
  "kernelspec": {
   "display_name": "Python 3",
   "language": "python",
   "name": "python3"
  },
  "language_info": {
   "codemirror_mode": {
    "name": "ipython",
    "version": 3
   },
   "file_extension": ".py",
   "mimetype": "text/x-python",
   "name": "python",
   "nbconvert_exporter": "python",
   "pygments_lexer": "ipython3",
   "version": "3.6.5"
  }
 },
 "nbformat": 4,
 "nbformat_minor": 2
}
