{
 "cells": [
  {
   "cell_type": "markdown",
   "metadata": {},
   "source": [
    "# Fintech Python 数据采集、处理、分析以及机器学习"
   ]
  },
  {
   "cell_type": "markdown",
   "metadata": {},
   "source": [
    "## 预备知识\n",
    "\n",
    "1. python3.0以上基础 [https://www.python.org](https://www.python.org)\n",
    "2. python http访问库，[requests](http://www.python-requests.org/en/master/)\n",
    "3. python html解析库，[Beautiful Soup](https://www.crummy.com/software/BeautifulSoup/)\n",
    "4. python 数据处理库，[Pandas](https://pandas.pydata.org)\n",
    "5. python 绘图工具库，[Matplotlib](https://matplotlib.org)\n",
    "6. machine learning， [Tensorflow](https://www.tensorflow.org)\n",
    "7. 简单介绍web http  \n",
    "\n",
    "以上的工具库或者开源项目，大家在学习的时候，其实只需要关注其基本概念和原理以及官方文档的前几章，在后面的课程中我们会一步一步边上课边讲解。"
   ]
  },
  {
   "cell_type": "markdown",
   "metadata": {},
   "source": [
    "## 课程题目简介\n",
    "通过本课程，我们将去探索人民币汇率和国内油价是否存在某种关系。    \n",
    "同时用机器学习的方法去给这种关系建立模型，并通过这个模型给出一个汇率，从而简单预测国内油价。    \n",
    "该课程建立的模型仅仅是为了介绍方法，大家也知道强扭的瓜不甜，这个模型或许就是错误的，重要的是获取这个结果，我们使用了什么样的方法。"
   ]
  },
  {
   "cell_type": "markdown",
   "metadata": {},
   "source": [
    "## 数据采集\n",
    "这部分我们将探索如何使用python这门语言以及其提供的开源项目去抓取目标数据。    \n",
    "主要分为两个部分： \n",
    "* 人民币汇率数据的抓取  \n",
    "* 国内油价数据的抓取"
   ]
  },
  {
   "cell_type": "markdown",
   "metadata": {},
   "source": [
    "### 人民币汇率数据的抓取"
   ]
  },
  {
   "cell_type": "markdown",
   "metadata": {},
   "source": [
    "#### 汇率数据的网页结构分析"
   ]
  },
  {
   "cell_type": "markdown",
   "metadata": {},
   "source": [
    "#### 汇率数据的抓取"
   ]
  },
  {
   "cell_type": "markdown",
   "metadata": {},
   "source": [
    "#### 汇率数据的提取"
   ]
  },
  {
   "cell_type": "markdown",
   "metadata": {},
   "source": [
    "#### 汇率数据的清洗"
   ]
  },
  {
   "cell_type": "markdown",
   "metadata": {},
   "source": [
    "### 国内油价数据的抓取"
   ]
  },
  {
   "cell_type": "markdown",
   "metadata": {},
   "source": [
    "#### 油价数据的网页结构分析"
   ]
  },
  {
   "cell_type": "markdown",
   "metadata": {},
   "source": [
    "#### 油价数据的抓取"
   ]
  },
  {
   "cell_type": "markdown",
   "metadata": {},
   "source": [
    "#### 油价数据的提取"
   ]
  },
  {
   "cell_type": "markdown",
   "metadata": {},
   "source": [
    "#### 油价数据的清洗"
   ]
  },
  {
   "cell_type": "markdown",
   "metadata": {},
   "source": [
    "## 数据处理\n",
    "为了能够绘出各种图标和曲线，我们需要使用工具库对数据进行预处理，使其能被绘图库的函数所接受。"
   ]
  },
  {
   "cell_type": "markdown",
   "metadata": {},
   "source": [
    "## 数据分析"
   ]
  },
  {
   "cell_type": "markdown",
   "metadata": {},
   "source": [
    "### 我们应该画一个什么样的图形\n",
    "我们的目标是想通过直观的图形表示来观察汇率和油价是否存在某种关联，所以绘制一个什么样的图形也很重要。    \n",
    "比如图形的横坐标和纵坐标分辨是什么？这是需要大家思考和定义的。"
   ]
  },
  {
   "cell_type": "markdown",
   "metadata": {},
   "source": [
    "### 我们需要准备你想绘制图形的数据\n",
    "在明确了你需要绘制的图形的各个输入变量，你得把你获取的数据重新整理和加工成符合条件的输入。"
   ]
  },
  {
   "cell_type": "markdown",
   "metadata": {},
   "source": [
    "### 绘制图形\n",
    "我们需要用不同类型的图形或曲线来描述同样的一个问题。"
   ]
  },
  {
   "cell_type": "markdown",
   "metadata": {},
   "source": [
    "## 机器学习"
   ]
  },
  {
   "cell_type": "markdown",
   "metadata": {},
   "source": [
    "### 学习样本和测试样本的准备\n",
    "需要对数据进行目标输出的标定，也就是对输出值进行定义。    \n",
    "我们将油价分为10个等级，分别设置为对应的等级数字，学习模型的输出就是对输入对象10个等级的打分"
   ]
  },
  {
   "cell_type": "markdown",
   "metadata": {},
   "source": [
    "### 模型学习和训练"
   ]
  },
  {
   "cell_type": "markdown",
   "metadata": {},
   "source": [
    "### 模型校验"
   ]
  },
  {
   "cell_type": "markdown",
   "metadata": {},
   "source": [
    "### 模型的实践\n",
    "输入一个汇率值，预测最可能的油价。"
   ]
  }
 ],
 "metadata": {
  "kernelspec": {
   "display_name": "Python 3",
   "language": "python",
   "name": "python3"
  },
  "language_info": {
   "codemirror_mode": {
    "name": "ipython",
    "version": 3
   },
   "file_extension": ".py",
   "mimetype": "text/x-python",
   "name": "python",
   "nbconvert_exporter": "python",
   "pygments_lexer": "ipython3",
   "version": "3.6.1"
  }
 },
 "nbformat": 4,
 "nbformat_minor": 2
}
